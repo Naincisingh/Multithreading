{
 "cells": [
  {
   "cell_type": "code",
   "execution_count": 2,
   "id": "0ecd362b-a87b-48cc-a350-ff811f0802af",
   "metadata": {},
   "outputs": [
    {
     "data": {
      "text/plain": [
       "'Modules used to handle threads-\\nThere are two main modules of multithreading used to handle threads in Python.\\n1.The thread module.\\n2.The threading module.'"
      ]
     },
     "execution_count": 2,
     "metadata": {},
     "output_type": "execute_result"
    }
   ],
   "source": [
    "\"QTS.1\"\n",
    "\"Multithreading-it is aprocess of running multiple threads simultaneously within a single core \"\n",
    "\n",
    "\"\"\"why is it use-Python multithreading enables efficient utilization of the resources as the threads\n",
    "   share the data space and memory. Multithreading in Python allows the concurrent and parallel \n",
    "   occurrence of various tasks. It causes a reduction in time consumption or response time, \n",
    "   thereby increasing the performance.\"\"\"\n",
    "\n",
    "\"\"\"Modules used to handle threads-\n",
    "There are two main modules of multithreading used to handle threads in Python.\n",
    "1.The thread module.\n",
    "2.The threading module.\"\"\""
   ]
  },
  {
   "cell_type": "code",
   "execution_count": 3,
   "id": "5c11aa77-e066-4b4b-a138-53ad5dc3a748",
   "metadata": {},
   "outputs": [
    {
     "data": {
      "text/plain": [
       "\"QTS.2\\nwhy do we use threading in python:-\\n   Python threading allows you to have different parts of your \\n   program run concurrently and can simplify your design\\n\\nuse of the following functions:-\\n1.activeCount() − Returns the number of thread objects that are active.\\n2.currentThread() − Returns the number of thread objects in the caller's thread control.\\n3.enumerate() − Returns a list of all thread objects that are currently active.\""
      ]
     },
     "execution_count": 3,
     "metadata": {},
     "output_type": "execute_result"
    }
   ],
   "source": [
    "\"\"\"QTS.2\n",
    "why do we use threading in python:-\n",
    "   Python threading allows you to have different parts of your \n",
    "   program run concurrently and can simplify your design\n",
    "\n",
    "use of the following functions:-\n",
    "1.activeCount() − Returns the number of thread objects that are active.\n",
    "2.currentThread() − Returns the number of thread objects in the caller's thread control.\n",
    "3.enumerate() − Returns a list of all thread objects that are currently active.\"\"\""
   ]
  },
  {
   "cell_type": "code",
   "execution_count": 106,
   "id": "af131fc9-7bb0-4035-9936-0858178d7aa5",
   "metadata": {},
   "outputs": [
    {
     "data": {
      "text/plain": [
       "\"QTS.3\\n1.What is run() in Python?\\nrun() method executes any target function belonging to a given thread object that is now active.\\n\\n2.what i sstart() in python?\\nstart() method is an inbuilt method of the Thread class of the threading module, it is used to \\nstart a thread's activity. This method calls the run() method internally which then executes the \\ntarget method. This method must be called at most one time for one thread.\\n\\n3.what is join()in python?\\nThe join() method takes all items in an iterable and joins them into one string.\\nA string must be specified as the separator.\\n\\n4.what is isAlive() in python?\\n is_alive() method is an inbuilt method of the Thread class of the threading module,\\n it is used to check whether that thread is alive or not, ie, ...\""
      ]
     },
     "execution_count": 106,
     "metadata": {},
     "output_type": "execute_result"
    }
   ],
   "source": [
    "\"\"\"QTS.3\n",
    "1.What is run() in Python?\n",
    "run() method executes any target function belonging to a given thread object that is now active.\n",
    "\n",
    "2.what i sstart() in python?\n",
    "start() method is an inbuilt method of the Thread class of the threading module, it is used to \n",
    "start a thread's activity. This method calls the run() method internally which then executes the \n",
    "target method. This method must be called at most one time for one thread.\n",
    "\n",
    "3.what is join()in python?\n",
    "The join() method takes all items in an iterable and joins them into one string.\n",
    "A string must be specified as the separator.\n",
    "\n",
    "4.what is isAlive() in python?\n",
    " is_alive() method is an inbuilt method of the Thread class of the threading module,\n",
    " it is used to check whether that thread is alive or not, ie, ...\"\"\"\n"
   ]
  },
  {
   "cell_type": "code",
   "execution_count": 109,
   "id": "41d26535-48c8-45b7-9e12-a1b49e0ca82b",
   "metadata": {},
   "outputs": [
    {
     "name": "stdout",
     "output_type": "stream",
     "text": [
      "[1, 4, 9, 16, 25, 36, 49, 64, 81, 100]\n",
      "[1, 8, 27, 64, 125, 216, 343, 512, 729, 1000]\n"
     ]
    }
   ],
   "source": [
    "\"\"\"QTS.4\"\"\"\n",
    "import threading\n",
    "l1=[]\n",
    "l2=[]\n",
    "def test1(i):\n",
    "    sq=i**2\n",
    "    l1.append(sq)\n",
    "    sq=0\n",
    "thread1=[threading.Thread(target=test1,args=(i,)) for i in range(1,11)]\n",
    "for t1 in thread1:\n",
    "    t1.start()\n",
    "print(l1)\n",
    "\n",
    "def test2(c):\n",
    "        cb=c**3\n",
    "        l2.append(cb)\n",
    "        cb=0\n",
    "thread2=[threading.Thread(target=test2,args=(c,)) for c in range(1,11)]\n",
    "for t2 in thread2:\n",
    "    t2.start()\n",
    "print(l2)    "
   ]
  },
  {
   "cell_type": "code",
   "execution_count": 88,
   "id": "f662667d-fee9-4470-bebc-15cfcc170406",
   "metadata": {},
   "outputs": [
    {
     "data": {
      "text/plain": [
       "'QTS.5\\nAdvantages of multithreading in python:-\\n1.Enhanced performance by decreased development time.\\n2.Simplified and streamlined program coding.\\n3.Improvised GUI responsiveness.\\n4.Simultaneous and parallelized occurrence of tasks.\\n5.Better use of cache storage by utilization of resources.\\n6.Decreased cost of maintenance.\\n\\nDisadvantages o fmultithreading in python:-\\n1.Increases the complexity of the program.\\n2.Synchronization of shared resources (objects, data) is necessary.\\n3.Difficult to debug unpredictable results\\n4.Constructing and synchronizing threads is CPU/memory intensive.'"
      ]
     },
     "execution_count": 88,
     "metadata": {},
     "output_type": "execute_result"
    }
   ],
   "source": [
    "\"\"\"QTS.5\n",
    "Advantages of multithreading in python:-\n",
    "1.Enhanced performance by decreased development time.\n",
    "2.Simplified and streamlined program coding.\n",
    "3.Improvised GUI responsiveness.\n",
    "4.Simultaneous and parallelized occurrence of tasks.\n",
    "5.Better use of cache storage by utilization of resources.\n",
    "6.Decreased cost of maintenance.\n",
    "\n",
    "Disadvantages o fmultithreading in python:-\n",
    "1.Increases the complexity of the program.\n",
    "2.Synchronization of shared resources (objects, data) is necessary.\n",
    "3.Difficult to debug unpredictable results\n",
    "4.Constructing and synchronizing threads is CPU/memory intensive.\"\"\""
   ]
  },
  {
   "cell_type": "code",
   "execution_count": 2,
   "id": "7e0502ba-439a-41e4-8625-69e263920716",
   "metadata": {},
   "outputs": [
    {
     "data": {
      "text/plain": [
       "'\"QTS.6\\nExplain the deadlocks and race conditions?\\nA race condition occurs when two threads use the same variable at a given time.\\nDeadlock exists when two threads seek one lock simultaneously. This situation will\\nstop both threads from processing or executing the functions.'"
      ]
     },
     "execution_count": 2,
     "metadata": {},
     "output_type": "execute_result"
    }
   ],
   "source": [
    "\"\"\"\"QTS.6\n",
    "Explain the deadlocks and race conditions?\n",
    "A race condition occurs when two threads use the same variable at a given time.\n",
    "Deadlock exists when two threads seek one lock simultaneously. This situation will\n",
    "stop both threads from processing or executing the functions.\"\"\""
   ]
  },
  {
   "cell_type": "code",
   "execution_count": null,
   "id": "68fff3fd-5f8d-4b08-9424-fa45be1fb459",
   "metadata": {},
   "outputs": [],
   "source": []
  }
 ],
 "metadata": {
  "kernelspec": {
   "display_name": "Python 3 (ipykernel)",
   "language": "python",
   "name": "python3"
  },
  "language_info": {
   "codemirror_mode": {
    "name": "ipython",
    "version": 3
   },
   "file_extension": ".py",
   "mimetype": "text/x-python",
   "name": "python",
   "nbconvert_exporter": "python",
   "pygments_lexer": "ipython3",
   "version": "3.10.8"
  }
 },
 "nbformat": 4,
 "nbformat_minor": 5
}
